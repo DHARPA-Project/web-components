{
 "cells": [
  {
   "cell_type": "markdown",
   "metadata": {},
   "source": [
    "This notebook demonstrates how to render web components in a notebook using `ipywidget` library. "
   ]
  },
  {
   "cell_type": "code",
   "execution_count": 51,
   "metadata": {},
   "outputs": [
    {
     "data": {
      "text/plain": [
       "[{'label': 'Topic 1', 'color': '#c4c4c4', 'crossWeights': [0, 9, 4, 3, 4, 2]},\n",
       " {'label': 'Topic 2', 'color': '#69b40f', 'crossWeights': [9, 0, 2, 3, 0, 4]},\n",
       " {'label': 'Topic 3', 'color': '#ec1d25', 'crossWeights': [4, 2, 0, 10, 8, 2]},\n",
       " {'label': 'Topic 4',\n",
       "  'color': '#c8125c',\n",
       "  'crossWeights': [3, 3, 10, 0, 18, 11]}]"
      ]
     },
     "execution_count": 51,
     "metadata": {},
     "output_type": "execute_result"
    }
   ],
   "source": [
    "topics = [\n",
    "  {\n",
    "    'label': 'Topic 1',\n",
    "    'color': '#c4c4c4',\n",
    "    'crossWeights': [0, 9, 4, 3, 4, 2]\n",
    "  },\n",
    "  {\n",
    "    'label': 'Topic 2',\n",
    "    'color': '#69b40f',\n",
    "    'crossWeights': [9, 0, 2, 3, 0, 4]\n",
    "  },\n",
    "  {\n",
    "    'label': 'Topic 3',\n",
    "    'color': '#ec1d25',\n",
    "    'crossWeights': [4, 2, 0, 10, 8, 2]\n",
    "  },\n",
    "  {\n",
    "    'label': 'Topic 4',\n",
    "    'color': '#c8125c',\n",
    "    'crossWeights': [3, 3, 10, 0, 18, 11]\n",
    "  },\n",
    "]\n",
    "topics"
   ]
  },
  {
   "cell_type": "code",
   "execution_count": 70,
   "metadata": {},
   "outputs": [
    {
     "data": {
      "text/html": [
       "\n",
       "  <div style=\"margin: 2rem auto; max-width: 600px;\">\n",
       "    <script type=\"module\" src=\"https://dharpa.org/web-components/dharpa-web-components.bundled.js\"></script>\n",
       "    <dharpa-chord-diagram id=\"chord-diagram\" width=\"600\" height=\"600\"></dharpa-chord-diagram>\n",
       "    <script>\n",
       "      function updateChordDiagram(topicsData) {\n",
       "        const names = topicsData.map(item => item.label)\n",
       "        const colors = topicsData.map(item => item.color)\n",
       "        const weights = topicsData.map(item => item.crossWeights)\n",
       "\n",
       "        document.querySelector('#chord-diagram').data = Object.assign(weights, { names, colors })\n",
       "      }\n",
       "      \n",
       "      updateChordDiagram([{\"label\": \"Topic 1\", \"color\": \"#c4c4c4\", \"crossWeights\": [0, 9, 4, 3, 4, 2]}, {\"label\": \"Topic 2\", \"color\": \"#69b40f\", \"crossWeights\": [9, 0, 2, 3, 0, 4]}, {\"label\": \"Topic 3\", \"color\": \"#ec1d25\", \"crossWeights\": [4, 2, 0, 10, 8, 2]}, {\"label\": \"Topic 4\", \"color\": \"#c8125c\", \"crossWeights\": [3, 3, 10, 0, 18, 11]}])      \n",
       "    </script>\n",
       "  </div>\n"
      ],
      "text/plain": [
       "<IPython.core.display.HTML object>"
      ]
     },
     "execution_count": 70,
     "metadata": {},
     "output_type": "execute_result"
    }
   ],
   "source": [
    "import json\n",
    "from IPython.core.display import HTML\n",
    "\n",
    "topics_str = json.dumps(topics)\n",
    "\n",
    "HTML(f'''\n",
    "  <div style=\"margin: 2rem auto; max-width: 600px;\">\n",
    "    <script type=\"module\" src=\"https://dharpa.org/web-components/dharpa-web-components.bundled.js\"></script>\n",
    "    <dharpa-chord-diagram id=\"chord-diagram\" width=\"600\" height=\"600\"></dharpa-chord-diagram>\n",
    "    <script>\n",
    "      function updateChordDiagram(topicsData) {{\n",
    "        const names = topicsData.map(item => item.label)\n",
    "        const colors = topicsData.map(item => item.color)\n",
    "        const weights = topicsData.map(item => item.crossWeights)\n",
    "\n",
    "        document.querySelector('#chord-diagram').data = Object.assign(weights, {{ names, colors }})\n",
    "      }}\n",
    "      \n",
    "      updateChordDiagram({topics_str})      \n",
    "    </script>\n",
    "  </div>\n",
    "''')"
   ]
  },
  {
   "cell_type": "code",
   "execution_count": null,
   "metadata": {},
   "outputs": [],
   "source": []
  }
 ],
 "metadata": {
  "kernelspec": {
   "display_name": "Python 3",
   "language": "python",
   "name": "python3"
  },
  "language_info": {
   "codemirror_mode": {
    "name": "ipython",
    "version": 3
   },
   "file_extension": ".py",
   "mimetype": "text/x-python",
   "name": "python",
   "nbconvert_exporter": "python",
   "pygments_lexer": "ipython3",
   "version": "3.9.1"
  }
 },
 "nbformat": 4,
 "nbformat_minor": 4
}
